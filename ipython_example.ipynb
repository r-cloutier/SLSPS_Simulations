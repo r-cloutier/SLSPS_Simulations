{
 "cells": [
  {
   "cell_type": "markdown",
   "metadata": {},
   "source": [
    "# Reading the contents of a SLSPS_Simulation file"
   ]
  },
  {
   "cell_type": "code",
   "execution_count": 1,
   "metadata": {
    "collapsed": true
   },
   "outputs": [],
   "source": [
    "from SLSPS_Simulations import *\n",
    "import matplotlib.pyplot as plt\n",
    "%matplotlib inline"
   ]
  },
  {
   "cell_type": "markdown",
   "metadata": {},
   "source": [
    "Read-in one SLSPS simulation file containing the results from one realization of the simulated *Optimized* survey version."
   ]
  },
  {
   "cell_type": "code",
   "execution_count": 2,
   "metadata": {
    "collapsed": true
   },
   "outputs": [],
   "source": [
    "self = loadpickle('Simulations/SLSPS_Optimized')"
   ]
  },
  {
   "cell_type": "markdown",
   "metadata": {},
   "source": [
    "## Summary of parameters\n",
    "\n",
    "All stellar pararmeters and their units can be accessed via"
   ]
  },
  {
   "cell_type": "code",
   "execution_count": 4,
   "metadata": {},
   "outputs": [
    {
     "data": {
      "text/plain": [
       "{'HZPlims': 'days',\n",
       " 'I': 'deg',\n",
       " 'Jmag': '',\n",
       " 'Ms': 'solar masses',\n",
       " 'Prot': 'days',\n",
       " 'Rs': 'solar radii',\n",
       " 'SpT': 'numerical spectral type',\n",
       " 'Teff': 'kelvin',\n",
       " 'dist': 'parsecs',\n",
       " 'fB': 'kiloGauss',\n",
       " 'starnums': '',\n",
       " 'vsini': 'km/s'}"
      ]
     },
     "execution_count": 4,
     "metadata": {},
     "output_type": "execute_result"
    }
   ],
   "source": [
    "self.units_star"
   ]
  },
  {
   "cell_type": "markdown",
   "metadata": {},
   "source": [
    "Similarly for the planetary system parameters"
   ]
  },
  {
   "cell_type": "code",
   "execution_count": 5,
   "metadata": {},
   "outputs": [
    {
     "data": {
      "text/plain": [
       "{'HZ_flags': 'binary flag',\n",
       " 'Ks': 'm/s',\n",
       " 'Ps': 'days',\n",
       " 'T0s': 'BJD',\n",
       " 'albedos': '',\n",
       " 'contrasts': '',\n",
       " 'detection_flags': 'binary flag',\n",
       " 'eccs': '',\n",
       " 'imagable_flags': 'binary flag',\n",
       " 'incs': 'deg',\n",
       " 'mps': 'Earth masses',\n",
       " 'mpsinis': 'Earth masses',\n",
       " 'nplanets': '',\n",
       " 'nplanets_detected': '',\n",
       " 'rps': 'Earth radii',\n",
       " 'seps': 'arcsec',\n",
       " 'smas': 'AU'}"
      ]
     },
     "execution_count": 5,
     "metadata": {},
     "output_type": "execute_result"
    }
   ],
   "source": [
    "self.units_planet"
   ]
  },
  {
   "cell_type": "code",
   "execution_count": null,
   "metadata": {
    "collapsed": true
   },
   "outputs": [],
   "source": [
    "And lastly for the remaining parameters describing the "
   ]
  }
 ],
 "metadata": {
  "kernelspec": {
   "display_name": "Python [default]",
   "language": "python",
   "name": "python2"
  },
  "language_info": {
   "codemirror_mode": {
    "name": "ipython",
    "version": 2
   },
   "file_extension": ".py",
   "mimetype": "text/x-python",
   "name": "python",
   "nbconvert_exporter": "python",
   "pygments_lexer": "ipython2",
   "version": "2.7.13"
  }
 },
 "nbformat": 4,
 "nbformat_minor": 2
}
